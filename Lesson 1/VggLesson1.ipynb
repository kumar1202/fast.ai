{
 "cells": [
  {
   "cell_type": "markdown",
   "metadata": {},
   "source": [
    "# Dogs vs Cats Prediction using VGG16 pre-trained model"
   ]
  },
  {
   "cell_type": "markdown",
   "metadata": {},
   "source": [
    "### Import necessary modules and configuring them"
   ]
  },
  {
   "cell_type": "code",
   "execution_count": 1,
   "metadata": {
    "collapsed": true
   },
   "outputs": [],
   "source": [
    "%matplotlib inline"
   ]
  },
  {
   "cell_type": "code",
   "execution_count": 2,
   "metadata": {
    "collapsed": true
   },
   "outputs": [],
   "source": [
    "#path = \"data/dogscats/\"\n",
    "path = \"data/dogscats/sample/\""
   ]
  },
  {
   "cell_type": "code",
   "execution_count": 3,
   "metadata": {
    "collapsed": true
   },
   "outputs": [],
   "source": [
    "from __future__ import division,print_function\n",
    "import glob as glob\n",
    "import numpy as np\n",
    "np.set_printoptions(precision=4, linewidth=100)\n",
    "import matplotlib.pyplot as plt"
   ]
  },
  {
   "cell_type": "markdown",
   "metadata": {},
   "source": [
    "### Importing utils.py which is gonna perform some basic functionalities in order to make the model code shorter"
   ]
  },
  {
   "cell_type": "code",
   "execution_count": 4,
   "metadata": {},
   "outputs": [
    {
     "name": "stderr",
     "output_type": "stream",
     "text": [
      "Using Theano backend.\n"
     ]
    }
   ],
   "source": [
    "import utils; reload(utils)\n",
    "from utils import plot"
   ]
  },
  {
   "cell_type": "markdown",
   "metadata": {},
   "source": [
    "# Using the imagenet competition award-winning (2015) VGG16 Model \n",
    "\n",
    "### The VGG model is pretrained on the imagenet dataset and we are using the weights obtained after the training in order to save our training time. The state-of-the-art VGG model will be implemented here in just 6 lines of code which will give us (>97%) accuracy on our Dogs vs Cats dataset."
   ]
  },
  {
   "cell_type": "code",
   "execution_count": 5,
   "metadata": {
    "collapsed": true
   },
   "outputs": [],
   "source": [
    "#Batch Size determines the number of images taken at a time to perform the computation/prediction.\n",
    "#Choose batch size as 64 if you are using an Amazon Machine Image through AWS or a really high-end GPU\n",
    "#Otherwise keep it low, here's I have a Geforce 930M. So, I have set it up to 32.\n",
    "batch_size=32"
   ]
  },
  {
   "cell_type": "markdown",
   "metadata": {},
   "source": [
    "## Importing our VGG16 pretrained model made on top of Keras and using theano as backend and making an object of it."
   ]
  },
  {
   "cell_type": "code",
   "execution_count": 6,
   "metadata": {
    "collapsed": true
   },
   "outputs": [],
   "source": [
    "import vgg16; reload(vgg16)\n",
    "from vgg16 import Vgg16"
   ]
  },
  {
   "cell_type": "code",
   "execution_count": 10,
   "metadata": {},
   "outputs": [
    {
     "name": "stdout",
     "output_type": "stream",
     "text": [
      "Found 16 images belonging to 2 classes.\n",
      "Found 8 images belonging to 2 classes.\n",
      "Epoch 1/9\n",
      "16/16 [==============================] - 18s - loss: 2.1265 - acc: 0.4375 - val_loss: 0.3236 - val_acc: 0.8750\n",
      "Epoch 2/9\n",
      "16/16 [==============================] - 16s - loss: 0.8164 - acc: 0.6250 - val_loss: 0.2053 - val_acc: 0.8750\n",
      "Epoch 3/9\n",
      "16/16 [==============================] - 17s - loss: 0.4718 - acc: 0.8750 - val_loss: 0.1838 - val_acc: 0.8750\n",
      "Epoch 4/9\n",
      "16/16 [==============================] - 16s - loss: 0.3472 - acc: 0.8125 - val_loss: 0.1777 - val_acc: 1.0000\n",
      "Epoch 5/9\n",
      "16/16 [==============================] - 16s - loss: 0.1448 - acc: 0.9375 - val_loss: 0.1992 - val_acc: 0.8750\n",
      "Epoch 6/9\n",
      "16/16 [==============================] - 16s - loss: 0.0092 - acc: 1.0000 - val_loss: 0.2233 - val_acc: 0.8750\n",
      "Epoch 7/9\n",
      "16/16 [==============================] - 15s - loss: 0.0695 - acc: 0.9375 - val_loss: 0.2320 - val_acc: 0.8750\n",
      "Epoch 8/9\n",
      "16/16 [==============================] - 16s - loss: 0.3129 - acc: 0.8750 - val_loss: 0.2291 - val_acc: 0.8750\n",
      "Epoch 9/9\n",
      "16/16 [==============================] - 15s - loss: 0.0035 - acc: 1.0000 - val_loss: 0.2254 - val_acc: 0.8750\n"
     ]
    }
   ],
   "source": [
    "vgg = Vgg16()\n",
    "batches = vgg.get_batches(path+'train',batch_size = batch_size)\n",
    "val_batches = vgg.get_batches(path+'valid',batch_size = batch_size*2)\n",
    "vgg.finetune(batches)\n",
    "vgg.fit(batches,val_batches,nb_epoch=9)"
   ]
  },
  {
   "cell_type": "code",
   "execution_count": null,
   "metadata": {
    "collapsed": true
   },
   "outputs": [],
   "source": []
  }
 ],
 "metadata": {
  "kernelspec": {
   "display_name": "Python 2",
   "language": "python",
   "name": "python2"
  },
  "language_info": {
   "codemirror_mode": {
    "name": "ipython",
    "version": 2
   },
   "file_extension": ".py",
   "mimetype": "text/x-python",
   "name": "python",
   "nbconvert_exporter": "python",
   "pygments_lexer": "ipython2",
   "version": "2.7.13"
  }
 },
 "nbformat": 4,
 "nbformat_minor": 2
}
